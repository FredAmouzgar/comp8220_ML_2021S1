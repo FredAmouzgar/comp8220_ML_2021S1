{
  "nbformat": 4,
  "nbformat_minor": 0,
  "metadata": {
    "colab": {
      "name": "Monte-Carlo_Geometrical_Demo.ipynb",
      "provenance": [],
      "collapsed_sections": []
    },
    "kernelspec": {
      "name": "python3",
      "display_name": "Python 3"
    },
    "language_info": {
      "name": "python"
    }
  },
  "cells": [
    {
      "cell_type": "markdown",
      "metadata": {
        "id": "Hu-Dk7tGXk9N"
      },
      "source": [
        "# Monte-Carlo: A Geometical Representation"
      ]
    },
    {
      "cell_type": "markdown",
      "metadata": {
        "id": "_7wOr8FFYGwF"
      },
      "source": [
        "<font size=\"2px\">Borrowed from the \"Foundations of Deep Reinforcement Learning\"</font>"
      ]
    },
    {
      "cell_type": "markdown",
      "metadata": {
        "id": "NOrFQ2OBR9vy"
      },
      "source": [
        "Monte Carlo sampling refers to any method that uses random sampling to generate data used to approximate a function. In essence, it is just “approximation with random sampling.\"\n",
        "\n",
        "To see how Monte Carlo works, let’s work through an example of how it can be used to estimate the value of $\\pi$ (the mathematical constant)—the ratio of a circle’s circumference to its diameter. A Monte Carlo approach to solving this problem is to take a quadrant of a circle of radius $r=1$ centered at the origin and inscribe it in a square. Their areas are $\\pi r^2$ and $r^2$, respectively. Hence, the ratio of these areas is simply:\n",
        "## $\\frac{\\text{area of circle}}{\\text{area of square}} = \\frac{\\frac{\\pi r^2}{4}}{r^2}$\n",
        "\n",
        "<center><img style=\"align: center;\" src=\"https://github.com/FredAmouzgar/comp8220_ML_2021S1/raw/main/images/MC_geometrical.png\" width=400></center>\n",
        "\n",
        "clearly, when $r=1$:\n",
        "## $\\frac{\\text{area of circle}}{\\text{area of square}} = \\frac{\\frac{\\pi r^2}{4}}{r^2} = \\frac{\\frac{\\pi \\times 1^2}{4}}{1^2} = \\frac{\\pi}{4}$\n",
        "\n",
        "Numerically, the square has an area of 1, but since we do not yet know $\\pi$, so the area of the circle is unknown. To obtain an estimation for $\\pi$, sample many points within the square using a uniformly random distribution. A point $(x, y)$ that lands in the circle has distance less than 1 from the origin—that is, $(x − 0)^2 + (y − 0)^2 ≤ 1$. This is shown in figure. Using this, if we count the number of points in the circle, then count the number of points sampled in total, their ratio roughly equals to the equation. By iteratively sampling more points and updating the ratio, our estimation will get closer to the precise value. Multiplying this ratio by 4 gives us the estimated value of $\\pi ≈ 3.14159$."
      ]
    },
    {
      "cell_type": "code",
      "metadata": {
        "id": "W91LyOArFSA_"
      },
      "source": [
        "import matplotlib.pyplot as plt\n",
        "import numpy as np\n",
        "from time import sleep\n",
        "from IPython.display import clear_output\n",
        "\n",
        "def calc_π(rand):\n",
        "    c = 0\n",
        "    number_of_sampled = rand.shape[0]\n",
        "\n",
        "    for i in range(number_of_sampled):\n",
        "        if rand[i, 0]**2 + rand[i, 1]**2 <= 1:\n",
        "            c += 1\n",
        "    return (4 * c) / number_of_sampled"
      ],
      "execution_count": 124,
      "outputs": []
    },
    {
      "cell_type": "code",
      "metadata": {
        "colab": {
          "base_uri": "https://localhost:8080/",
          "height": 281
        },
        "id": "tBMBmkcQFaDB",
        "outputId": "2a31a978-5c95-437d-f313-fe2f98112822"
      },
      "source": [
        "for n in [10, 100, 500, 1000, 2000, 5000, 10000, 20000, 50000, 100000, 200000, 500000, 1000000, 5000000]:\n",
        "    rand = np.random.uniform(low=0, high=1, size=(n, 2)) # randomly selecting numbers from the uniform distribution \n",
        "    PI = calc_π(rand) # \n",
        "\n",
        "    clear_output(wait=True)\n",
        "    x = np.linspace(start=0, stop=1, num=200)\n",
        "    plt.plot(x, np.sqrt(1-x**2), c=\"b\")\n",
        "    plt.plot(x, np.zeros_like(x), c=\"b\")\n",
        "    plt.plot(np.zeros_like(x), x, c=\"b\")\n",
        "    plt.scatter(rand[:, 0], rand[:, 1], c=\"r\", s=0.5, alpha=0.5)\n",
        "    plt.title(\"Number of Samples = \" + str(n) + \" - PI = \" + str(PI))\n",
        "    plt.show()\n",
        "    sleep(0.5)"
      ],
      "execution_count": 125,
      "outputs": [
        {
          "output_type": "display_data",
          "data": {
            "image/png": "[encoded data removed]",
            "text/plain": [
              "<Figure size 432x288 with 1 Axes>"
            ]
          },
          "metadata": {
            "tags": [],
            "needs_background": "light"
          }
        }
      ]
    },
    {
      "cell_type": "markdown",
      "metadata": {
        "id": "Q8nNZD6iYbvF"
      },
      "source": [
        "<font size=\"2px\">COMP8220 - MQ - Mar 2021</font>"
      ]
    }
  ]
}