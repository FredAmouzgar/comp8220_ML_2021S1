{
  "nbformat": 4,
  "nbformat_minor": 0,
  "metadata": {
    "kernelspec": {
      "display_name": "Python 3",
      "language": "python",
      "name": "python3"
    },
    "language_info": {
      "codemirror_mode": {
        "name": "ipython",
        "version": 3
      },
      "file_extension": ".py",
      "mimetype": "text/x-python",
      "name": "python",
      "nbconvert_exporter": "python",
      "pygments_lexer": "ipython3",
      "version": "3.7.6"
    },
    "colab": {
      "name": "Monte-Carlo_Solutions.ipynb",
      "provenance": [],
      "collapsed_sections": []
    }
  },
  "cells": [
    {
      "cell_type": "markdown",
      "metadata": {
        "id": "pVkkqvFsHxy4"
      },
      "source": [
        "# Online Monte-Carlo Algorithm and the Windy Grid World Enviroment"
      ]
    },
    {
      "cell_type": "markdown",
      "metadata": {
        "id": "M3Ec61AavP4p"
      },
      "source": [
        "## PLEASE RUN THIS: Downloading the environment"
      ]
    },
    {
      "cell_type": "code",
      "metadata": {
        "id": "kQDgKrLxvCks"
      },
      "source": [
        "# Downloading the WindyGridWorld environment\n",
        "\n",
        "!wget -q https://raw.githubusercontent.com/FredAmouzgar/comp8220_ML_2021S1/main/envs.py"
      ],
      "execution_count": 1,
      "outputs": []
    },
    {
      "cell_type": "markdown",
      "metadata": {
        "id": "Ou3-VCcw2aty"
      },
      "source": [
        "## The Windy Grid World"
      ]
    },
    {
      "cell_type": "markdown",
      "metadata": {
        "id": "L1gHr1ln24ck"
      },
      "source": [
        "### Our Goal\n",
        "\n",
        "__In this notebook, we are going to tackle the <font color=\"blue\">Windy Grid World</font> with the Monte-Carlo algorithm.__"
      ]
    },
    {
      "cell_type": "markdown",
      "metadata": {
        "id": "RXD5yV8RHxy6"
      },
      "source": [
        "### What is the Windy Grid World Environment?\n",
        "Windy Gridworld as shown below is a standard gridworld, with start and goal states, but with one difference: there is a crosswind running upward through the middle of the grid. The actions are the standard four—up, down, right, and left—but in the middle region the resultant next states are shifted upward by a “wind,” the strength of which varies from column to column. The strength of the wind is given below each column, in number of cells shifted upward. For example, if you are one cell to the right of the goal, then the action left takes you to the cell just above the goal. The optimal path should look like this. ([Sutton, 2018](http://www.incompleteideas.net/book/the-book-2nd.html)) (Why?)\n",
        "\n",
        "<center><img style=\"align: center;\" src=\"https://github.com/FredAmouzgar/comp8220_ML_2021S1/raw/main/images/windygrid_actual.png\" width=400></center>\n",
        "<table style=\"background-color: white; align: center; text-align: center;\">\n",
        "    <tr>\n",
        "        <td style=\"text-align: center;\">\n",
        "            <h3>Start State</h3>\n",
        "        </td>\n",
        "        <td>\n",
        "        </td>\n",
        "        <td style=\"text-align: center;\">\n",
        "            <h3>Final State</h3>\n",
        "        </td>\n",
        "    </tr>\n",
        "    <tr>\n",
        "        <td>\n",
        "            <img src=\"https://github.com/FredAmouzgar/comp8220_ML_2021S1/raw/main/images/Windy_grid_world.png\" width=300>\n",
        "        </td>\n",
        "        <td>\n",
        "            <img src=\"https://github.com/FredAmouzgar/comp8220_ML_2021S1/raw/main/images/arrow.jpeg\" width=20>\n",
        "        </td>\n",
        "        <td>\n",
        "            <img src=\"https://github.com/FredAmouzgar/comp8220_ML_2021S1/raw/main/images/Windy_grid_world_end.png\" width=300>\n",
        "        </td>\n",
        "    </tr>\n",
        "</table>\n",
        "\n",
        "----"
      ]
    },
    {
      "cell_type": "markdown",
      "metadata": {
        "id": "oWqDW3Pz3KDP"
      },
      "source": [
        "## The Agent"
      ]
    },
    {
      "cell_type": "markdown",
      "metadata": {
        "id": "M41R0EhYHxzD"
      },
      "source": [
        "### A random agent in the WindyGridWorld (10 random steps)"
      ]
    },
    {
      "cell_type": "code",
      "metadata": {
        "colab": {
          "base_uri": "https://localhost:8080/",
          "height": 264
        },
        "id": "Bynu3VgTHxzD",
        "outputId": "2138f323-ba41-4186-f5ff-02414f02faee"
      },
      "source": [
        "from envs import WindyGridWorld\n",
        "from time import sleep\n",
        "import numpy as np\n",
        "from IPython.display import clear_output\n",
        "\n",
        "%matplotlib inline\n",
        "env = WindyGridWorld()\n",
        "\n",
        "for i in range(10):\n",
        "    a = np.random.choice([0,1,2,3])\n",
        "    env.step(a)\n",
        "    env.render()\n",
        "    sleep(1)\n",
        "    # clear_output(wait=True)"
      ],
      "execution_count": 2,
      "outputs": [
        {
          "output_type": "display_data",
          "data": {
            "image/png": "[encoded data removed]",
            "text/plain": [
              "<Figure size 432x288 with 1 Axes>"
            ]
          },
          "metadata": {
            "tags": [],
            "needs_background": "light"
          }
        }
      ]
    },
    {
      "cell_type": "markdown",
      "metadata": {
        "id": "B1zaJXPpHxzE"
      },
      "source": [
        "### Constructing an _online First-Visit Monte-Carlo_ Agent for the Windy Grid World\n",
        "\n",
        "<img style=\"align: center;\" src=\"https://github.com/FredAmouzgar/comp8220_ML_2021S1/raw/main/images/on-policy_MC_control_edited.PNG\" width=800>\n",
        "\n",
        "__As the training progresses, your agent should get less negative reward, and manages to finish the task sooner.__\n",
        "\n",
        "# NOTE: Complete all the TODO sections"
      ]
    },
    {
      "cell_type": "code",
      "metadata": {
        "id": "5LIQtKmBHxzE"
      },
      "source": [
        "import numpy as np\n",
        "np.random.seed(0)\n",
        "\n",
        "class OnPolicy_FirstVisit_MC_Agent:\n",
        "    def __init__(self, n_states, n_actions, epsilon=1, final_epsilon_value=0.001,\n",
        "                 gamma=0.9, alpha=0.1, decay_factor=0.0002):\n",
        "        self.epsilon = epsilon # ε is used for exploration, initially set to 1 for the maximum initial exploration\n",
        "        self.final_epsilon_value = final_epsilon_value # The final value of the ε. Over time ε decays. \n",
        "        self.gamma = gamma # gamma is the discount factor, capturing the importance of future rewards for the agent\n",
        "        self.alpha = alpha # The learning rate of the agent\n",
        "        self.n_states = n_states # Number of states in the environment.\n",
        "        self.n_actions = n_actions # Number of actions in the environment.\n",
        "        self.decay_factor = decay_factor # The speed of decaying ε\n",
        "        \n",
        "        self.all_actions = np.arange(n_actions)\n",
        "        self.Q = np.zeros(shape=(n_states, n_actions)) # Q(s,a) is a 2D numpy array representing agent's state-action value function.\n",
        "        self.policy = self.init_epsilon_soft_policy(n_states, n_actions) # This is just for the sake of illustration\n",
        "        \n",
        "    ##### Redundant Code: Since we are not using the ε-soft policy. This's just an FYI.   \n",
        "    def init_epsilon_soft_policy(self, n_states, n_actions):\n",
        "        \"\"\"\n",
        "        The init_epsilon_soft_policy method initializes ε=1 which means the probability of each\n",
        "        action is equal and uniformly distributed\n",
        "        \"\"\"\n",
        "        policy = np.ones((n_states, n_actions), dtype=np.float32) / n_actions\n",
        "        return policy\n",
        "\n",
        "    def act_epsilon_soft(self, state):\n",
        "        \"\"\"\n",
        "        The act method takes an action from the ε-soft policy\n",
        "        \"\"\"\n",
        "        return np.random.choice(self.all_actions, p=self.policy[state, :])\n",
        "    ################################\n",
        "    \n",
        "    def act(self, state, exploration=True):\n",
        "        if exploration:\n",
        "            if np.random.rand() < self.epsilon:\n",
        "                action = np.random.choice(self.all_actions)\n",
        "            else:\n",
        "                action = action = np.argmax(self.Q[state, :])\n",
        "        else: # Pure greedy, no exploration\n",
        "            action = np.argmax(self.Q[state, :])\n",
        "            \n",
        "        return action\n",
        "    \n",
        "    def reset(self):\n",
        "        self.states, self.actions, self.rewards = [], [], [0]  # Reward's index starts from 1\n",
        "    \n",
        "    def update(self, state, action, reward, done):\n",
        "        self.states.append(state)\n",
        "        self.actions.append(action)\n",
        "        self.rewards.append(reward)\n",
        "        if done:\n",
        "            self.epsilon_decay()\n",
        "            G = 0\n",
        "            visited = np.zeros((self.n_states, self.n_actions), dtype=np.int8)\n",
        "            for t in reversed(range(len(self.states))):\n",
        "                G = self.gamma * G + self.rewards[t+1] # Compute G using γ (gamma) and reward in t+1 timestep\n",
        "                s, a = self.states[t], self.actions[t] # Saving s[t] and a[t] in s and a for easier access\n",
        "                if visited[s, a] == 0:\n",
        "                    visited[s, a] += 1\n",
        "                else:\n",
        "                    continue\n",
        "                    \n",
        "                self.Q[s, a] = self.Q[s, a] + self.alpha * (G - self.Q[s, a])\n",
        "                A_optimal = np.argmax(self.Q[s, :])\n",
        "                self.policy[s,:] = self.epsilon / self.n_actions\n",
        "                self.policy[s, A_optimal] = 1 - self.epsilon + self.epsilon / self.n_actions\n",
        "    \n",
        "    def epsilon_decay(self):\n",
        "        if self.epsilon > self.final_epsilon_value:\n",
        "            self.epsilon -= self.decay_factor\n",
        "        else:\n",
        "            self.epsilon = self.final_epsilon_value"
      ],
      "execution_count": 14,
      "outputs": []
    },
    {
      "cell_type": "markdown",
      "metadata": {
        "id": "aekZqqNliV3o"
      },
      "source": [
        "### Two Util Functions (Please Do not modify):\n",
        "- display_status()\n",
        "- play()"
      ]
    },
    {
      "cell_type": "code",
      "metadata": {
        "id": "wRppaWekHxzF"
      },
      "source": [
        "# Utils - PLEASE DO NOT MODIFY THIS CELL\n",
        "\n",
        "def display_status(episode, return_episode, epsilon, stime, returns, avg_returns, policy):\n",
        "    \"\"\"\n",
        "    A helper function for displaying agent's behavior\n",
        "    \"\"\"\n",
        "    clear_output(wait=True)\n",
        "    etime = time()\n",
        "    fig, axes = plt.subplots(nrows=1, ncols=2, figsize=(20,10))\n",
        "    axes[0].set_title(\"Episode:\" + str(episode) + \" - Return:\"+str(return_episode)\\\n",
        "              + \" - Epsilon:\" + str(epsilon)[:5] + \" - elapsed time: \" + str(etime - stime)[:4])\n",
        "    axes[0].set_xlabel(\"Episode\")\n",
        "    axes[0].set_ylabel(\"Returns (sum of rewards in each episode)\")\n",
        "    axes[0].plot(list(range(len(returns))),returns)\n",
        "    axes[0].plot(list(range(len(returns))),avg_returns, linewidth=3)\n",
        "    axes[0].legend([\"Returns\", \"Average Returns\"])\n",
        "\n",
        "    axes[1].imshow((10 * policy).reshape(14, 20))\n",
        "    axes[1].set_title(\"A representation of agent's policy\")\n",
        "    axes[1].legend([\"0\"])\n",
        "    axes[1].axis(\"off\")\n",
        "    plt.show()\n",
        "    \n",
        "def play(env, agent, episodes=2, exploration=True, tolerance=20):\n",
        "    for episode in range(episodes):\n",
        "        env.reset()\n",
        "        state = env.state\n",
        "        done = False\n",
        "        step = 0\n",
        "        actions = []\n",
        "        while not done:\n",
        "            action = agent.act(state, exploration=exploration)\n",
        "            new_state, reward, done, _ = env.step(action)\n",
        "            step += 1\n",
        "            state = new_state\n",
        "            actions.append(action)\n",
        "            clear_output(wait=True)\n",
        "            env.render()\n",
        "            if done:\n",
        "                print(f\"Done in {step} steps.\")\n",
        "                print(f\"Actions: {actions}\")\n",
        "                for a in actions:\n",
        "                    print(env.actions[a], end=\", \")\n",
        "                print()\n",
        "                sleep(0.1)\n",
        "            if step >= tolerance:\n",
        "                print(f\"No Done in {step} steps.\")\n",
        "                break\n",
        "            sleep(0.1)"
      ],
      "execution_count": 15,
      "outputs": []
    },
    {
      "cell_type": "markdown",
      "metadata": {
        "id": "FfsvPGd73aGv"
      },
      "source": [
        "## Training an Agent:"
      ]
    },
    {
      "cell_type": "markdown",
      "metadata": {
        "id": "MmYQu_6_gHUD"
      },
      "source": [
        "### The initial performance of the agent before training"
      ]
    },
    {
      "cell_type": "code",
      "metadata": {
        "colab": {
          "base_uri": "https://localhost:8080/",
          "height": 281
        },
        "id": "jxVSRVvEgDU_",
        "outputId": "6a117dc2-1965-4dc9-d956-36ea3ff46002"
      },
      "source": [
        "env = WindyGridWorld()\n",
        "agent = OnPolicy_FirstVisit_MC_Agent(n_states=env.states_n, n_actions=env.actions_n)\n",
        "\n",
        "play(env, agent, episodes=1, tolerance=20)"
      ],
      "execution_count": 5,
      "outputs": [
        {
          "output_type": "display_data",
          "data": {
            "image/png": "[encoded data removed]",
            "text/plain": [
              "<Figure size 432x288 with 1 Axes>"
            ]
          },
          "metadata": {
            "tags": [],
            "needs_background": "light"
          }
        },
        {
          "output_type": "stream",
          "text": [
            "No Done in 20 steps.\n"
          ],
          "name": "stdout"
        }
      ]
    },
    {
      "cell_type": "markdown",
      "metadata": {
        "id": "9bISl2EGnZ-z"
      },
      "source": [
        "### Training the Agent"
      ]
    },
    {
      "cell_type": "markdown",
      "metadata": {
        "id": "IhyJR3mHHxzG"
      },
      "source": [
        "### The Train Loop\n",
        "\n",
        "<img style=\"align: center;\" src=\"https://github.com/FredAmouzgar/comp8220_ML_2021S1/raw/main/images/MDP_loop.jpeg\" width=800>"
      ]
    },
    {
      "cell_type": "markdown",
      "metadata": {
        "id": "orm3770FrLfj"
      },
      "source": [
        "### The Training Process (~ Takes 1 minute)"
      ]
    },
    {
      "cell_type": "code",
      "metadata": {
        "colab": {
          "base_uri": "https://localhost:8080/",
          "height": 440
        },
        "id": "zISZlb3SHxzH",
        "outputId": "9fdebe0a-44d2-41aa-85bd-6bc4acde0467"
      },
      "source": [
        "from envs import WindyGridWorld\n",
        "import matplotlib.pyplot as plt\n",
        "from IPython.display import clear_output\n",
        "from time import time\n",
        "\n",
        "env = WindyGridWorld()\n",
        "agent = OnPolicy_FirstVisit_MC_Agent(n_states=env.states_n, n_actions=env.actions_n) # , alpha=0.1, final_epsilon_value=0.001, decay_factor=0.0002)\n",
        "EPISODES = 6000 # Training the agent for 6000 episodes\n",
        "STEPS = 3000\n",
        "DISPLAY_RESULTS_INTERVAL = 50\n",
        "\n",
        "returns = []\n",
        "avg_returns = []\n",
        "stime = time()\n",
        "for episode in range(EPISODES):\n",
        "    state = env.reset()\n",
        "    agent.reset()\n",
        "    done = False\n",
        "    \n",
        "    return_episode = 0\n",
        "    for step in range(STEPS):\n",
        "        action = agent.act(state)\n",
        "        state_, reward, done, info = env.step(action)\n",
        "        agent.update(state, action ,reward, done)\n",
        "        state = state_\n",
        "        return_episode += reward\n",
        "        if done:\n",
        "            returns.append(return_episode)\n",
        "            avg = (sum(returns[-100:]) / 100) if len(returns) > 100 else (sum(returns[-len(returns):]) / len(returns))\n",
        "            avg_returns.append(avg)\n",
        "            if episode % DISPLAY_RESULTS_INTERVAL == 0:\n",
        "                display_status(episode, return_episode, agent.epsilon, stime, returns, avg_returns, agent.policy)\n",
        "            break"
      ],
      "execution_count": 16,
      "outputs": [
        {
          "output_type": "display_data",
          "data": {
            "image/png": "[encoded data removed]",
            "text/plain": [
              "<Figure size 1440x720 with 2 Axes>"
            ]
          },
          "metadata": {
            "tags": [],
            "needs_background": "light"
          }
        }
      ]
    },
    {
      "cell_type": "markdown",
      "metadata": {
        "id": "CDeo7UaMnRUD"
      },
      "source": [
        "## Watch a Smart Agent!"
      ]
    },
    {
      "cell_type": "code",
      "metadata": {
        "colab": {
          "base_uri": "https://localhost:8080/",
          "height": 315
        },
        "id": "i-O3gEpQHxzI",
        "outputId": "690b5727-937d-43d4-95d5-75f94d53ed7f"
      },
      "source": [
        "# Change the value of \"episodes\" variable to a higher number if you want the agent to play more than 1 episode\n",
        "play(env, agent, episodes=1, exploration=False)"
      ],
      "execution_count": 17,
      "outputs": [
        {
          "output_type": "display_data",
          "data": {
            "image/png": "[encoded data removed]",
            "text/plain": [
              "<Figure size 432x288 with 1 Axes>"
            ]
          },
          "metadata": {
            "tags": [],
            "needs_background": "light"
          }
        },
        {
          "output_type": "stream",
          "text": [
            "Done in 15 steps.\n",
            "Actions: [0, 0, 0, 0, 0, 0, 0, 0, 0, 3, 3, 3, 3, 1, 1]\n",
            "right, right, right, right, right, right, right, right, right, down, down, down, down, left, left, \n"
          ],
          "name": "stdout"
        }
      ]
    },
    {
      "cell_type": "markdown",
      "metadata": {
        "id": "IwLNK101HxzI"
      },
      "source": [
        "a trained agent should find a path similar to the perdicted optimal policy. <br>\n",
        "<img style=\"align: center;\" src=\"https://github.com/FredAmouzgar/comp8220_ML_2021S1/raw/main/images/windygrid_actual.png\" width=400>"
      ]
    },
    {
      "cell_type": "markdown",
      "metadata": {
        "id": "0dS0_KwOnjop"
      },
      "source": [
        "## More Questions:"
      ]
    },
    {
      "cell_type": "markdown",
      "metadata": {
        "id": "2kTE---tj77n"
      },
      "source": [
        "__Q1:__ What would happen if we turn the algorithm from one-visit to every-visit?\n",
        "\n",
        "__Q2 (Programming):__ Use the Monte-Carlo algorithm to train an agent for the OpenAI Gym's environment.\n",
        "\n",
        "__*Q3 (Programming):__ _Modify the Windy Gridworld and add King’s Moves_: Re-solve the windygridworld assuming eight possible actions, including the diagonal moves, rather than the usual four. How much better can you do with the extra actions? Can you do even better by including a ninth action that causes no movement at all other than that caused by the wind \\[[Sutton2018](http://incompleteideas.net/book/the-book-2nd.html)\\]?\n",
        "\n",
        "__*Q4 (Programming):__ _Stochastic Wind_: Re-solve the windy gridworld task with King’s moves, assuming that the e↵ect of the wind, if there is any, is stochastic, sometimes varying by 1 from the mean values given for each column. That is, a third of the time you move exactly according to these values, as in the previous exercise, but also a third of the time you move one cell above that, and another third of the time you move one cell below that. For example, if you are one cell to the right of the goal and you move left, then one-third of the time you move one cell above the goal, one-third of the time you move two cells above the goal, and one-third of the time you move to the goal \\[[Sutton2018](http://incompleteideas.net/book/the-book-2nd.html)\\].\n",
        "\n",
        "<font size=\"1px\">* = harder questions</font>\n"
      ]
    },
    {
      "cell_type": "markdown",
      "metadata": {
        "id": "vTZZ91RyoBMS"
      },
      "source": [
        "<font size=\"1px\"><a href=\"https://www.linkedin.com/in/fredamouzgar/\">Fred A.</a> Mar/2021</font>"
      ]
    }
  ]
}