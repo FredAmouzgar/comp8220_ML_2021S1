{
  "nbformat": 4,
  "nbformat_minor": 0,
  "metadata": {
    "colab": {
      "name": "Lever_for_bandit_tests.ipynb",
      "provenance": [],
      "collapsed_sections": []
    },
    "kernelspec": {
      "name": "python3",
      "display_name": "Python 3"
    }
  },
  "cells": [
    {
      "cell_type": "code",
      "metadata": {
        "colab": {
          "base_uri": "https://localhost:8080/",
          "height": 231
        },
        "id": "fdm3Eb9fkB3Q",
        "outputId": "a7dc1243-21cb-4e2a-df0e-0ac3371fb518"
      },
      "source": [
        "import ipywidgets as widgets\n",
        "from numpy import random\n",
        "\n",
        "class Lever:\n",
        "  def __init__(self):\n",
        "    self.counter = 0\n",
        "\n",
        "    self.button = widgets.Button(\n",
        "        description='Submit answer',\n",
        "        disabled=False,\n",
        "        button_style='', # 'success', 'info', 'warning', 'danger' or ''\n",
        "    )\n",
        "\n",
        "    self.text = widgets.HTML()  #widgets.Text(disable=True)\n",
        "\n",
        "    def evaluate(self, button):\n",
        "\n",
        "        #selection = selector.get_interact_value()\n",
        "\n",
        "        value = random.choice(range(3), p=[0.1, 0.2, 0.7])\n",
        "        self.counter += 1\n",
        "        self.text.value = \"No# \" + str(self.counter) + str(value)    \n",
        "\n",
        "l1 = Lever()\n",
        "l1.button.on_click(l1.evaluate)        \n",
        "\n",
        "left_box = widgets.VBox([button, text])\n",
        "widgets.HBox([left_box])"
      ],
      "execution_count": 13,
      "outputs": [
        {
          "output_type": "error",
          "ename": "AttributeError",
          "evalue": "ignored",
          "traceback": [
            "\u001b[0;31m---------------------------------------------------------------------------\u001b[0m",
            "\u001b[0;31mAttributeError\u001b[0m                            Traceback (most recent call last)",
            "\u001b[0;32m<ipython-input-13-b9020afc2341>\u001b[0m in \u001b[0;36m<module>\u001b[0;34m()\u001b[0m\n\u001b[1;32m     23\u001b[0m \u001b[0;34m\u001b[0m\u001b[0m\n\u001b[1;32m     24\u001b[0m \u001b[0ml1\u001b[0m \u001b[0;34m=\u001b[0m \u001b[0mLever\u001b[0m\u001b[0;34m(\u001b[0m\u001b[0;34m)\u001b[0m\u001b[0;34m\u001b[0m\u001b[0;34m\u001b[0m\u001b[0m\n\u001b[0;32m---> 25\u001b[0;31m \u001b[0ml1\u001b[0m\u001b[0;34m.\u001b[0m\u001b[0mbutton\u001b[0m\u001b[0;34m.\u001b[0m\u001b[0mon_click\u001b[0m\u001b[0;34m(\u001b[0m\u001b[0ml1\u001b[0m\u001b[0;34m.\u001b[0m\u001b[0mevaluate\u001b[0m\u001b[0;34m)\u001b[0m\u001b[0;34m\u001b[0m\u001b[0;34m\u001b[0m\u001b[0m\n\u001b[0m\u001b[1;32m     26\u001b[0m \u001b[0;34m\u001b[0m\u001b[0m\n\u001b[1;32m     27\u001b[0m \u001b[0mleft_box\u001b[0m \u001b[0;34m=\u001b[0m \u001b[0mwidgets\u001b[0m\u001b[0;34m.\u001b[0m\u001b[0mVBox\u001b[0m\u001b[0;34m(\u001b[0m\u001b[0;34m[\u001b[0m\u001b[0mbutton\u001b[0m\u001b[0;34m,\u001b[0m \u001b[0mtext\u001b[0m\u001b[0;34m]\u001b[0m\u001b[0;34m)\u001b[0m\u001b[0;34m\u001b[0m\u001b[0;34m\u001b[0m\u001b[0m\n",
            "\u001b[0;31mAttributeError\u001b[0m: 'Lever' object has no attribute 'evaluate'"
          ]
        }
      ]
    },
    {
      "cell_type": "code",
      "metadata": {
        "id": "pdHB7BPHkGja"
      },
      "source": [
        ""
      ],
      "execution_count": null,
      "outputs": []
    }
  ]
}